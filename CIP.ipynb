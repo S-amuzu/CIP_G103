{
 "cells": [
  {
   "cell_type": "markdown",
   "id": "c782f8f5",
   "metadata": {},
   "source": [
    "# Football transfer data \n",
    "\n",
    "### Group 103 "
   ]
  },
  {
   "cell_type": "markdown",
   "id": "13907819",
   "metadata": {},
   "source": [
    "Samuel Amuzu, Nick Schaufelberger, Julian Purtschert"
   ]
  },
  {
   "cell_type": "markdown",
   "id": "39ea763b",
   "metadata": {},
   "source": [
    "## Loading Libraries"
   ]
  },
  {
   "cell_type": "markdown",
   "id": "5a4cf8d0",
   "metadata": {},
   "source": [
    "We import the following libraries to improve our code’s efficiency and simplify data handling, visualization, and cleaning. These libraries help us manage data, create visualizations, extract information from websites, and perform mathematical operations more efficiently."
   ]
  },
  {
   "cell_type": "code",
   "id": "10c0846d",
   "metadata": {
    "ExecuteTime": {
     "end_time": "2025-10-18T11:29:45.529913Z",
     "start_time": "2025-10-18T11:29:45.168384Z"
    }
   },
   "source": [
    "import pandas as pd\n",
    "import matplotlib as plt\n",
    "import matplotlib.pyplot as plt\n",
    "import seaborn as sns\n",
    "import requests\n",
    "from bs4 import BeautifulSoup, Comment\n",
    "import numpy as np\n",
    "import re"
   ],
   "outputs": [],
   "execution_count": 1
  },
  {
   "cell_type": "markdown",
   "id": "439eaa63",
   "metadata": {},
   "source": [
    "## Loading Data"
   ]
  },
  {
   "cell_type": "markdown",
   "id": "aba0ff17",
   "metadata": {},
   "source": [
    "Our dataset, which is in addition to the scraping part, is the Football Transfer dataset from Kaggle. It contains detailed information on player transfers, fees, clubs, seasons, and positions for the biggest leagues in Europe from 2009 to 2021. The dataset consists of 23 columns and more than 70’000 entries. "
   ]
  },
  {
   "cell_type": "code",
   "id": "54fc2d0e",
   "metadata": {
    "scrolled": true,
    "ExecuteTime": {
     "end_time": "2025-10-18T11:29:47.176037Z",
     "start_time": "2025-10-18T11:29:46.954244Z"
    }
   },
   "source": [
    "# This code loads the transfer data from a CSV file and displays the first five rows.\n",
    "transfer_df = pd.read_csv(\"transfers.csv\")\n",
    "transfer_df.head(5)"
   ],
   "outputs": [
    {
     "data": {
      "text/plain": [
       "  league  season window  team_id          team_name team_country dir  \\\n",
       "0    GB1    2009      s      985  Manchester United      England  in   \n",
       "1    GB1    2009      s      985  Manchester United      England  in   \n",
       "2    GB1    2009      s      985  Manchester United      England  in   \n",
       "3    GB1    2009      s      985  Manchester United      England  in   \n",
       "4    GB1    2009      s      985  Manchester United      England  in   \n",
       "\n",
       "   player_id       player_name  player_age  ... counter_team_id  \\\n",
       "0      33544  Antonio Valencia        23.0  ...            1071   \n",
       "1      62049        Mame Diouf        21.0  ...             687   \n",
       "2      43261   Gabriel Obertan        20.0  ...              40   \n",
       "3       1397      Michael Owen        29.0  ...             762   \n",
       "4      73538     Scott Moffatt        18.0  ...            5242   \n",
       "\n",
       "       counter_team_name counter_team_country transfer_fee_amnt  \\\n",
       "0         Wigan Athletic              England        18800000.0   \n",
       "1               Molde FK               Norway         4500000.0   \n",
       "2  FC Girondins Bordeaux               France         4000000.0   \n",
       "3       Newcastle United              England               0.0   \n",
       "4  Manchester United U18              England               NaN   \n",
       "\n",
       "  market_val_amnt is_free  is_loan  is_loan_end  is_retired  transfer_id  \n",
       "0             NaN   False    False        False       False       310832  \n",
       "1       1600000.0   False    False        False       False       319841  \n",
       "2        400000.0   False    False        False       False       315185  \n",
       "3             NaN    True    False        False       False       306421  \n",
       "4             NaN   False    False        False       False       339015  \n",
       "\n",
       "[5 rows x 23 columns]"
      ],
      "text/html": [
       "<div>\n",
       "<style scoped>\n",
       "    .dataframe tbody tr th:only-of-type {\n",
       "        vertical-align: middle;\n",
       "    }\n",
       "\n",
       "    .dataframe tbody tr th {\n",
       "        vertical-align: top;\n",
       "    }\n",
       "\n",
       "    .dataframe thead th {\n",
       "        text-align: right;\n",
       "    }\n",
       "</style>\n",
       "<table border=\"1\" class=\"dataframe\">\n",
       "  <thead>\n",
       "    <tr style=\"text-align: right;\">\n",
       "      <th></th>\n",
       "      <th>league</th>\n",
       "      <th>season</th>\n",
       "      <th>window</th>\n",
       "      <th>team_id</th>\n",
       "      <th>team_name</th>\n",
       "      <th>team_country</th>\n",
       "      <th>dir</th>\n",
       "      <th>player_id</th>\n",
       "      <th>player_name</th>\n",
       "      <th>player_age</th>\n",
       "      <th>...</th>\n",
       "      <th>counter_team_id</th>\n",
       "      <th>counter_team_name</th>\n",
       "      <th>counter_team_country</th>\n",
       "      <th>transfer_fee_amnt</th>\n",
       "      <th>market_val_amnt</th>\n",
       "      <th>is_free</th>\n",
       "      <th>is_loan</th>\n",
       "      <th>is_loan_end</th>\n",
       "      <th>is_retired</th>\n",
       "      <th>transfer_id</th>\n",
       "    </tr>\n",
       "  </thead>\n",
       "  <tbody>\n",
       "    <tr>\n",
       "      <th>0</th>\n",
       "      <td>GB1</td>\n",
       "      <td>2009</td>\n",
       "      <td>s</td>\n",
       "      <td>985</td>\n",
       "      <td>Manchester United</td>\n",
       "      <td>England</td>\n",
       "      <td>in</td>\n",
       "      <td>33544</td>\n",
       "      <td>Antonio Valencia</td>\n",
       "      <td>23.0</td>\n",
       "      <td>...</td>\n",
       "      <td>1071</td>\n",
       "      <td>Wigan Athletic</td>\n",
       "      <td>England</td>\n",
       "      <td>18800000.0</td>\n",
       "      <td>NaN</td>\n",
       "      <td>False</td>\n",
       "      <td>False</td>\n",
       "      <td>False</td>\n",
       "      <td>False</td>\n",
       "      <td>310832</td>\n",
       "    </tr>\n",
       "    <tr>\n",
       "      <th>1</th>\n",
       "      <td>GB1</td>\n",
       "      <td>2009</td>\n",
       "      <td>s</td>\n",
       "      <td>985</td>\n",
       "      <td>Manchester United</td>\n",
       "      <td>England</td>\n",
       "      <td>in</td>\n",
       "      <td>62049</td>\n",
       "      <td>Mame Diouf</td>\n",
       "      <td>21.0</td>\n",
       "      <td>...</td>\n",
       "      <td>687</td>\n",
       "      <td>Molde FK</td>\n",
       "      <td>Norway</td>\n",
       "      <td>4500000.0</td>\n",
       "      <td>1600000.0</td>\n",
       "      <td>False</td>\n",
       "      <td>False</td>\n",
       "      <td>False</td>\n",
       "      <td>False</td>\n",
       "      <td>319841</td>\n",
       "    </tr>\n",
       "    <tr>\n",
       "      <th>2</th>\n",
       "      <td>GB1</td>\n",
       "      <td>2009</td>\n",
       "      <td>s</td>\n",
       "      <td>985</td>\n",
       "      <td>Manchester United</td>\n",
       "      <td>England</td>\n",
       "      <td>in</td>\n",
       "      <td>43261</td>\n",
       "      <td>Gabriel Obertan</td>\n",
       "      <td>20.0</td>\n",
       "      <td>...</td>\n",
       "      <td>40</td>\n",
       "      <td>FC Girondins Bordeaux</td>\n",
       "      <td>France</td>\n",
       "      <td>4000000.0</td>\n",
       "      <td>400000.0</td>\n",
       "      <td>False</td>\n",
       "      <td>False</td>\n",
       "      <td>False</td>\n",
       "      <td>False</td>\n",
       "      <td>315185</td>\n",
       "    </tr>\n",
       "    <tr>\n",
       "      <th>3</th>\n",
       "      <td>GB1</td>\n",
       "      <td>2009</td>\n",
       "      <td>s</td>\n",
       "      <td>985</td>\n",
       "      <td>Manchester United</td>\n",
       "      <td>England</td>\n",
       "      <td>in</td>\n",
       "      <td>1397</td>\n",
       "      <td>Michael Owen</td>\n",
       "      <td>29.0</td>\n",
       "      <td>...</td>\n",
       "      <td>762</td>\n",
       "      <td>Newcastle United</td>\n",
       "      <td>England</td>\n",
       "      <td>0.0</td>\n",
       "      <td>NaN</td>\n",
       "      <td>True</td>\n",
       "      <td>False</td>\n",
       "      <td>False</td>\n",
       "      <td>False</td>\n",
       "      <td>306421</td>\n",
       "    </tr>\n",
       "    <tr>\n",
       "      <th>4</th>\n",
       "      <td>GB1</td>\n",
       "      <td>2009</td>\n",
       "      <td>s</td>\n",
       "      <td>985</td>\n",
       "      <td>Manchester United</td>\n",
       "      <td>England</td>\n",
       "      <td>in</td>\n",
       "      <td>73538</td>\n",
       "      <td>Scott Moffatt</td>\n",
       "      <td>18.0</td>\n",
       "      <td>...</td>\n",
       "      <td>5242</td>\n",
       "      <td>Manchester United U18</td>\n",
       "      <td>England</td>\n",
       "      <td>NaN</td>\n",
       "      <td>NaN</td>\n",
       "      <td>False</td>\n",
       "      <td>False</td>\n",
       "      <td>False</td>\n",
       "      <td>False</td>\n",
       "      <td>339015</td>\n",
       "    </tr>\n",
       "  </tbody>\n",
       "</table>\n",
       "<p>5 rows × 23 columns</p>\n",
       "</div>"
      ]
     },
     "execution_count": 2,
     "metadata": {},
     "output_type": "execute_result"
    }
   ],
   "execution_count": 2
  },
  {
   "cell_type": "code",
   "id": "80340774",
   "metadata": {
    "ExecuteTime": {
     "end_time": "2025-10-18T11:29:49.705648Z",
     "start_time": "2025-10-18T11:29:49.680001Z"
    }
   },
   "source": [
    "transfer_df.columns"
   ],
   "outputs": [
    {
     "data": {
      "text/plain": [
       "Index(['league', 'season', 'window', 'team_id', 'team_name', 'team_country',\n",
       "       'dir', 'player_id', 'player_name', 'player_age', 'player_nation',\n",
       "       'player_nation2', 'player_pos', 'counter_team_id', 'counter_team_name',\n",
       "       'counter_team_country', 'transfer_fee_amnt', 'market_val_amnt',\n",
       "       'is_free', 'is_loan', 'is_loan_end', 'is_retired', 'transfer_id'],\n",
       "      dtype='object')"
      ]
     },
     "execution_count": 3,
     "metadata": {},
     "output_type": "execute_result"
    }
   ],
   "execution_count": 3
  },
  {
   "cell_type": "markdown",
   "id": "420eb2fd",
   "metadata": {},
   "source": [
    "The code loads successfully, displaying all columns with their respective headers. Next, we proceed to clean the data, check for gaps, verify data types, and identify any missing values"
   ]
  },
  {
   "cell_type": "markdown",
   "id": "6abf85b9",
   "metadata": {},
   "source": [
    "## Checking for gaps / missing data"
   ]
  },
  {
   "cell_type": "markdown",
   "id": "355a7572",
   "metadata": {},
   "source": [
    "- Check for gaps / missing data \n",
    "- Check if columns show appropriate datatypes, change if needed \n",
    "- Check if values lie in the expected range \n",
    "- Identify outliers, treat them reasonably \n",
    "- Format your dataset suitable for your task (combine, merge, resample, …)  \n",
    "- Enrich your dataset with at least one column of helpful additional information"
   ]
  },
  {
   "cell_type": "markdown",
   "id": "92222739",
   "metadata": {},
   "source": [
    "First, we use the info() method to display some information about the dataset and the different data types that occur in it. We observe 70'006 entries and 23 columns, with 5 different data types present."
   ]
  },
  {
   "cell_type": "code",
   "id": "dbee540f",
   "metadata": {
    "ExecuteTime": {
     "end_time": "2025-10-18T11:29:55.646107Z",
     "start_time": "2025-10-18T11:29:55.585413Z"
    }
   },
   "source": [
    "transfer_df.info()"
   ],
   "outputs": [
    {
     "name": "stdout",
     "output_type": "stream",
     "text": [
      "<class 'pandas.core.frame.DataFrame'>\n",
      "RangeIndex: 70006 entries, 0 to 70005\n",
      "Data columns (total 23 columns):\n",
      " #   Column                Non-Null Count  Dtype  \n",
      "---  ------                --------------  -----  \n",
      " 0   league                70006 non-null  object \n",
      " 1   season                70006 non-null  int64  \n",
      " 2   window                70006 non-null  object \n",
      " 3   team_id               70006 non-null  int64  \n",
      " 4   team_name             70006 non-null  object \n",
      " 5   team_country          70006 non-null  object \n",
      " 6   dir                   70006 non-null  object \n",
      " 7   player_id             70006 non-null  int64  \n",
      " 8   player_name           70006 non-null  object \n",
      " 9   player_age            69990 non-null  float64\n",
      " 10  player_nation         70001 non-null  object \n",
      " 11  player_nation2        23181 non-null  object \n",
      " 12  player_pos            70006 non-null  object \n",
      " 13  counter_team_id       70006 non-null  object \n",
      " 14  counter_team_name     70006 non-null  object \n",
      " 15  counter_team_country  70006 non-null  object \n",
      " 16  transfer_fee_amnt     28263 non-null  float64\n",
      " 17  market_val_amnt       50742 non-null  float64\n",
      " 18  is_free               70006 non-null  bool   \n",
      " 19  is_loan               70006 non-null  bool   \n",
      " 20  is_loan_end           70006 non-null  bool   \n",
      " 21  is_retired            70006 non-null  bool   \n",
      " 22  transfer_id           70006 non-null  int64  \n",
      "dtypes: bool(4), float64(3), int64(4), object(12)\n",
      "memory usage: 10.4+ MB\n"
     ]
    }
   ],
   "execution_count": 4
  },
  {
   "cell_type": "markdown",
   "id": "acf7faba",
   "metadata": {},
   "source": [
    "Next, we check for missing values. As seen in the code below, there are missing values in five columns. We need to take a closer look at the columns \"player_age\" and \"player_nation\".\n",
    "\n",
    "The other three columns (\"player_nation2\", \"transfer_fee_amnt\", and \"market_val_amnt\") make sense to contain missing values. Many players do not have a second nationality, some are transferred for free or on loan which results in no transfer fee, and some may not yet have an assigned market value.\n",
    "\n",
    "In the next step, we will examine the missing values in the \"player_age\" and \"player_nation\" columns in more detail."
   ]
  },
  {
   "cell_type": "code",
   "id": "c60a4591",
   "metadata": {
    "ExecuteTime": {
     "end_time": "2025-10-18T11:30:03.060868Z",
     "start_time": "2025-10-18T11:30:02.978918Z"
    }
   },
   "source": [
    "transfer_df.isna().any()\n",
    "transfer_df.isna().sum()"
   ],
   "outputs": [
    {
     "data": {
      "text/plain": [
       "league                      0\n",
       "season                      0\n",
       "window                      0\n",
       "team_id                     0\n",
       "team_name                   0\n",
       "team_country                0\n",
       "dir                         0\n",
       "player_id                   0\n",
       "player_name                 0\n",
       "player_age                 16\n",
       "player_nation               5\n",
       "player_nation2          46825\n",
       "player_pos                  0\n",
       "counter_team_id             0\n",
       "counter_team_name           0\n",
       "counter_team_country        0\n",
       "transfer_fee_amnt       41743\n",
       "market_val_amnt         19264\n",
       "is_free                     0\n",
       "is_loan                     0\n",
       "is_loan_end                 0\n",
       "is_retired                  0\n",
       "transfer_id                 0\n",
       "dtype: int64"
      ]
     },
     "execution_count": 5,
     "metadata": {},
     "output_type": "execute_result"
    }
   ],
   "execution_count": 5
  },
  {
   "cell_type": "code",
   "id": "66990ca8",
   "metadata": {
    "scrolled": true,
    "ExecuteTime": {
     "end_time": "2025-10-18T11:30:12.197927Z",
     "start_time": "2025-10-18T11:30:12.145054Z"
    }
   },
   "source": [
    "missing_summary = transfer_df.isnull().sum()\n",
    "missing_summary = missing_summary[missing_summary > 0]\n",
    "print(\"Missing data per column:\")\n",
    "print(missing_summary)"
   ],
   "outputs": [
    {
     "name": "stdout",
     "output_type": "stream",
     "text": [
      "Missing data per column:\n",
      "player_age              16\n",
      "player_nation            5\n",
      "player_nation2       46825\n",
      "transfer_fee_amnt    41743\n",
      "market_val_amnt      19264\n",
      "dtype: int64\n"
     ]
    }
   ],
   "execution_count": 6
  },
  {
   "cell_type": "code",
   "id": "1e52ad9b",
   "metadata": {
    "ExecuteTime": {
     "end_time": "2025-10-18T11:30:17.855400Z",
     "start_time": "2025-10-18T11:30:17.826081Z"
    }
   },
   "source": [
    "# Rows where player_age or player_nation is missing\n",
    "missing_players = transfer_df[transfer_df['player_age'].isna() | transfer_df['player_nation'].isna()]\n",
    "\n",
    "# Display the relevant columns\n",
    "missing_players[['player_name', 'player_age', 'player_nation']]"
   ],
   "outputs": [
    {
     "data": {
      "text/plain": [
       "              player_name  player_age player_nation\n",
       "349       Stuart McDonald         NaN           NaN\n",
       "1770      Stuart McDonald         NaN           NaN\n",
       "4156          Reece Hayes         NaN       England\n",
       "5596          Reece Hayes         NaN       England\n",
       "7559    Dionatan Teixeira         NaN      Slovakia\n",
       "9217        Emiliano Sala         NaN     Argentina\n",
       "21706      Benjamin Owusu         NaN         Ghana\n",
       "23189  Piermario Morosini         NaN         Italy\n",
       "39591      Timon Fröhlich        19.0           NaN\n",
       "39678   Niklas Feierabend         NaN       Germany\n",
       "47331      Jonas Pessalli         NaN        Brazil\n",
       "47345      Jonas Pessalli         NaN        Brazil\n",
       "48351       Steven Keller         NaN        France\n",
       "49131       Nathaël Julan         NaN        France\n",
       "49171       Emiliano Sala         NaN     Argentina\n",
       "53711               Vitor        27.0           NaN\n",
       "58077         Abdul Basit         NaN         Ghana\n",
       "58567         Abdul Basit         NaN         Ghana\n",
       "62809       Julian Lamers        18.0           NaN"
      ],
      "text/html": [
       "<div>\n",
       "<style scoped>\n",
       "    .dataframe tbody tr th:only-of-type {\n",
       "        vertical-align: middle;\n",
       "    }\n",
       "\n",
       "    .dataframe tbody tr th {\n",
       "        vertical-align: top;\n",
       "    }\n",
       "\n",
       "    .dataframe thead th {\n",
       "        text-align: right;\n",
       "    }\n",
       "</style>\n",
       "<table border=\"1\" class=\"dataframe\">\n",
       "  <thead>\n",
       "    <tr style=\"text-align: right;\">\n",
       "      <th></th>\n",
       "      <th>player_name</th>\n",
       "      <th>player_age</th>\n",
       "      <th>player_nation</th>\n",
       "    </tr>\n",
       "  </thead>\n",
       "  <tbody>\n",
       "    <tr>\n",
       "      <th>349</th>\n",
       "      <td>Stuart McDonald</td>\n",
       "      <td>NaN</td>\n",
       "      <td>NaN</td>\n",
       "    </tr>\n",
       "    <tr>\n",
       "      <th>1770</th>\n",
       "      <td>Stuart McDonald</td>\n",
       "      <td>NaN</td>\n",
       "      <td>NaN</td>\n",
       "    </tr>\n",
       "    <tr>\n",
       "      <th>4156</th>\n",
       "      <td>Reece Hayes</td>\n",
       "      <td>NaN</td>\n",
       "      <td>England</td>\n",
       "    </tr>\n",
       "    <tr>\n",
       "      <th>5596</th>\n",
       "      <td>Reece Hayes</td>\n",
       "      <td>NaN</td>\n",
       "      <td>England</td>\n",
       "    </tr>\n",
       "    <tr>\n",
       "      <th>7559</th>\n",
       "      <td>Dionatan Teixeira</td>\n",
       "      <td>NaN</td>\n",
       "      <td>Slovakia</td>\n",
       "    </tr>\n",
       "    <tr>\n",
       "      <th>9217</th>\n",
       "      <td>Emiliano Sala</td>\n",
       "      <td>NaN</td>\n",
       "      <td>Argentina</td>\n",
       "    </tr>\n",
       "    <tr>\n",
       "      <th>21706</th>\n",
       "      <td>Benjamin Owusu</td>\n",
       "      <td>NaN</td>\n",
       "      <td>Ghana</td>\n",
       "    </tr>\n",
       "    <tr>\n",
       "      <th>23189</th>\n",
       "      <td>Piermario Morosini</td>\n",
       "      <td>NaN</td>\n",
       "      <td>Italy</td>\n",
       "    </tr>\n",
       "    <tr>\n",
       "      <th>39591</th>\n",
       "      <td>Timon Fröhlich</td>\n",
       "      <td>19.0</td>\n",
       "      <td>NaN</td>\n",
       "    </tr>\n",
       "    <tr>\n",
       "      <th>39678</th>\n",
       "      <td>Niklas Feierabend</td>\n",
       "      <td>NaN</td>\n",
       "      <td>Germany</td>\n",
       "    </tr>\n",
       "    <tr>\n",
       "      <th>47331</th>\n",
       "      <td>Jonas Pessalli</td>\n",
       "      <td>NaN</td>\n",
       "      <td>Brazil</td>\n",
       "    </tr>\n",
       "    <tr>\n",
       "      <th>47345</th>\n",
       "      <td>Jonas Pessalli</td>\n",
       "      <td>NaN</td>\n",
       "      <td>Brazil</td>\n",
       "    </tr>\n",
       "    <tr>\n",
       "      <th>48351</th>\n",
       "      <td>Steven Keller</td>\n",
       "      <td>NaN</td>\n",
       "      <td>France</td>\n",
       "    </tr>\n",
       "    <tr>\n",
       "      <th>49131</th>\n",
       "      <td>Nathaël Julan</td>\n",
       "      <td>NaN</td>\n",
       "      <td>France</td>\n",
       "    </tr>\n",
       "    <tr>\n",
       "      <th>49171</th>\n",
       "      <td>Emiliano Sala</td>\n",
       "      <td>NaN</td>\n",
       "      <td>Argentina</td>\n",
       "    </tr>\n",
       "    <tr>\n",
       "      <th>53711</th>\n",
       "      <td>Vitor</td>\n",
       "      <td>27.0</td>\n",
       "      <td>NaN</td>\n",
       "    </tr>\n",
       "    <tr>\n",
       "      <th>58077</th>\n",
       "      <td>Abdul Basit</td>\n",
       "      <td>NaN</td>\n",
       "      <td>Ghana</td>\n",
       "    </tr>\n",
       "    <tr>\n",
       "      <th>58567</th>\n",
       "      <td>Abdul Basit</td>\n",
       "      <td>NaN</td>\n",
       "      <td>Ghana</td>\n",
       "    </tr>\n",
       "    <tr>\n",
       "      <th>62809</th>\n",
       "      <td>Julian Lamers</td>\n",
       "      <td>18.0</td>\n",
       "      <td>NaN</td>\n",
       "    </tr>\n",
       "  </tbody>\n",
       "</table>\n",
       "</div>"
      ]
     },
     "execution_count": 7,
     "metadata": {},
     "output_type": "execute_result"
    }
   ],
   "execution_count": 7
  },
  {
   "cell_type": "markdown",
   "id": "443a465b",
   "metadata": {},
   "source": [
    "Since researching every player and filling in the missing values would be too cumbersome, and it’s also quite difficult to find data on some less well-known players, we decided not to fill in those values and instead remove them from the dataset.\n",
    "\n",
    "Also, the column nation2 isn’t very interesting for us, so it’s dropped as well."
   ]
  },
  {
   "cell_type": "code",
   "id": "0bf7bb58",
   "metadata": {
    "ExecuteTime": {
     "end_time": "2025-10-18T11:30:44.876783Z",
     "start_time": "2025-10-18T11:30:44.826358Z"
    }
   },
   "source": [
    "# Drop rows where player_age or player_nation is missing\n",
    "transfer_df = transfer_df.dropna(subset=['player_age', 'player_nation'])\n",
    "transfer_df = transfer_df.drop(columns=['player_nation2'])"
   ],
   "outputs": [],
   "execution_count": 8
  },
  {
   "cell_type": "markdown",
   "id": "c912499e",
   "metadata": {},
   "source": [
    "For data cleaning and improved readability, we replaced NULL values in the transfer fee amount and market value amount columns with zeros."
   ]
  },
  {
   "cell_type": "code",
   "id": "1ba1fdf6",
   "metadata": {
    "ExecuteTime": {
     "end_time": "2025-10-18T11:31:03.325580Z",
     "start_time": "2025-10-18T11:31:03.305257Z"
    }
   },
   "source": [
    "transfer_df[['transfer_fee_amnt', 'market_val_amnt']] = transfer_df[['transfer_fee_amnt', 'market_val_amnt']].fillna(0)"
   ],
   "outputs": [],
   "execution_count": 9
  },
  {
   "cell_type": "markdown",
   "id": "e90b4276",
   "metadata": {},
   "source": [
    "It also seems there aren’t any duplicate rows. However, we know from above that there are duplicate entries in some columns, which makes sense since some players get transferred a lot."
   ]
  },
  {
   "cell_type": "code",
   "id": "dbde56e8",
   "metadata": {
    "ExecuteTime": {
     "end_time": "2025-10-18T11:31:08.996679Z",
     "start_time": "2025-10-18T11:31:08.835070Z"
    }
   },
   "source": [
    "print(transfer_df.duplicated().any())\n",
    "print(transfer_df.duplicated().sum())"
   ],
   "outputs": [
    {
     "name": "stdout",
     "output_type": "stream",
     "text": [
      "False\n",
      "0\n"
     ]
    }
   ],
   "execution_count": 10
  },
  {
   "cell_type": "markdown",
   "id": "2e59e76f",
   "metadata": {},
   "source": [
    "## Changing datatypes"
   ]
  },
  {
   "cell_type": "markdown",
   "id": "8e5f95ee",
   "metadata": {},
   "source": [
    "First, we’ll take another look at the current data types for each column."
   ]
  },
  {
   "cell_type": "code",
   "id": "0c4aa698",
   "metadata": {
    "ExecuteTime": {
     "end_time": "2025-10-18T11:31:14.249477Z",
     "start_time": "2025-10-18T11:31:14.184982Z"
    }
   },
   "source": [
    "transfer_df.info()"
   ],
   "outputs": [
    {
     "name": "stdout",
     "output_type": "stream",
     "text": [
      "<class 'pandas.core.frame.DataFrame'>\n",
      "Index: 69987 entries, 0 to 70005\n",
      "Data columns (total 22 columns):\n",
      " #   Column                Non-Null Count  Dtype  \n",
      "---  ------                --------------  -----  \n",
      " 0   league                69987 non-null  object \n",
      " 1   season                69987 non-null  int64  \n",
      " 2   window                69987 non-null  object \n",
      " 3   team_id               69987 non-null  int64  \n",
      " 4   team_name             69987 non-null  object \n",
      " 5   team_country          69987 non-null  object \n",
      " 6   dir                   69987 non-null  object \n",
      " 7   player_id             69987 non-null  int64  \n",
      " 8   player_name           69987 non-null  object \n",
      " 9   player_age            69987 non-null  float64\n",
      " 10  player_nation         69987 non-null  object \n",
      " 11  player_pos            69987 non-null  object \n",
      " 12  counter_team_id       69987 non-null  object \n",
      " 13  counter_team_name     69987 non-null  object \n",
      " 14  counter_team_country  69987 non-null  object \n",
      " 15  transfer_fee_amnt     69987 non-null  float64\n",
      " 16  market_val_amnt       69987 non-null  float64\n",
      " 17  is_free               69987 non-null  bool   \n",
      " 18  is_loan               69987 non-null  bool   \n",
      " 19  is_loan_end           69987 non-null  bool   \n",
      " 20  is_retired            69987 non-null  bool   \n",
      " 21  transfer_id           69987 non-null  int64  \n",
      "dtypes: bool(4), float64(3), int64(4), object(11)\n",
      "memory usage: 10.4+ MB\n"
     ]
    }
   ],
   "execution_count": 11
  },
  {
   "cell_type": "markdown",
   "id": "8075f1ba",
   "metadata": {},
   "source": [
    "Convert selected columns to categorical type, set player_age as integer, and ensure counter_team_id is stored as a numeric integer."
   ]
  },
  {
   "cell_type": "code",
   "id": "2063a13e",
   "metadata": {
    "ExecuteTime": {
     "end_time": "2025-10-18T11:31:33.233263Z",
     "start_time": "2025-10-18T11:31:33.138808Z"
    }
   },
   "source": [
    "cat_cols = [\n",
    "    'league', 'window', 'team_name', 'team_country', 'dir',\n",
    "    'player_nation', 'player_pos',\n",
    "    'counter_team_name', 'counter_team_country'\n",
    "]\n",
    "transfer_df[cat_cols] = transfer_df[cat_cols].astype('category')\n",
    "\n",
    "transfer_df['player_age'] = transfer_df['player_age'].astype('Int64')\n",
    "\n",
    "transfer_df['counter_team_id'] = pd.to_numeric(transfer_df['counter_team_id'], errors='coerce').astype('Int64')"
   ],
   "outputs": [],
   "execution_count": 12
  },
  {
   "cell_type": "markdown",
   "id": "aa838480",
   "metadata": {},
   "source": [
    "## Checking if values lie in the expected range (Outliers and Anomalies)"
   ]
  },
  {
   "cell_type": "markdown",
   "id": "df574c4a",
   "metadata": {},
   "source": [
    "In this dataset, we only have a few numeric values that make sense to examine for outliers or anomalies. Therefore, in the next step, we print the basic statistics for the columns player age, transfer fee, and market value."
   ]
  },
  {
   "cell_type": "code",
   "id": "7e385995",
   "metadata": {
    "scrolled": true,
    "ExecuteTime": {
     "end_time": "2025-10-18T11:33:13.792729Z",
     "start_time": "2025-10-18T11:33:13.731839Z"
    }
   },
   "source": [
    "cols = ['player_age', 'transfer_fee_amnt', 'market_val_amnt']\n",
    "\n",
    "summary_stats = transfer_df[cols].agg(['count', 'mean', 'median', 'min', 'max']).T\n",
    "\n",
    "summary_stats = summary_stats.round(2)\n",
    "\n",
    "print(summary_stats)"
   ],
   "outputs": [
    {
     "name": "stdout",
     "output_type": "stream",
     "text": [
      "                     count        mean    median   min          max\n",
      "player_age         69987.0       24.17      23.0  12.0       1775.0\n",
      "transfer_fee_amnt  69987.0  1518821.40       0.0   0.0  550000000.0\n",
      "market_val_amnt    69987.0  2579570.78  325000.0   0.0  160000000.0\n"
     ]
    }
   ],
   "execution_count": 13
  },
  {
   "cell_type": "markdown",
   "id": "b34ffea7",
   "metadata": {},
   "source": [
    "In the dataset, the Age column contains a clear outlier, a player listed as 1775 years old, which is obviously incorrect (unless we’re living in the Star Wars universe). The Market Value for Kylian Mbappé looks reasonable. However, we also need to take a closer look at the unusually high transfer fee for Simone Pesce, as that value doesn’t seem to make sense."
   ]
  },
  {
   "cell_type": "code",
   "id": "ec2a76fd",
   "metadata": {
    "ExecuteTime": {
     "end_time": "2025-10-18T11:33:19.517222Z",
     "start_time": "2025-10-18T11:33:19.465212Z"
    }
   },
   "source": [
    "outlier_info = transfer_df.loc[transfer_df['player_age'] == 1775, \n",
    "                               ['player_name', 'team_name', 'season', 'player_age']]\n",
    "print(outlier_info)"
   ],
   "outputs": [
    {
     "name": "stdout",
     "output_type": "stream",
     "text": [
      "      player_name       team_name  season  player_age\n",
      "55915      Califo  Gil Vicente FC    2014        1775\n"
     ]
    }
   ],
   "execution_count": 14
  },
  {
   "cell_type": "markdown",
   "id": "fa32b511",
   "metadata": {},
   "source": [
    "Since we didn’t find any information about this player’s age and he doesn’t seem to be relevant for our analysis or research question, we deleted him from the dataset."
   ]
  },
  {
   "cell_type": "code",
   "id": "f2b050ff",
   "metadata": {
    "ExecuteTime": {
     "end_time": "2025-10-18T11:33:22.364762Z",
     "start_time": "2025-10-18T11:33:22.343852Z"
    }
   },
   "source": [
    "transfer_df = transfer_df[transfer_df['player_age'] != 1775]"
   ],
   "outputs": [],
   "execution_count": 15
  },
  {
   "cell_type": "markdown",
   "id": "235c504b",
   "metadata": {},
   "source": [
    "After deleting the player, the boxplot shows a reasonable distribution of the Age column in our dataset."
   ]
  },
  {
   "cell_type": "code",
   "id": "b9bd6e67",
   "metadata": {
    "ExecuteTime": {
     "end_time": "2025-10-18T11:33:29.681153Z",
     "start_time": "2025-10-18T11:33:29.420370Z"
    }
   },
   "source": [
    "col = 'player_age'\n",
    "\n",
    "plt.figure(figsize=(8, 5))\n",
    "plt.boxplot(transfer_df[col], vert=True)\n",
    "plt.title(f'Boxplot of {col}')\n",
    "plt.ylabel(col)\n",
    "plt.show()"
   ],
   "outputs": [
    {
     "data": {
      "text/plain": [
       "<Figure size 800x500 with 1 Axes>"
      ],
      "image/png": "[encoded data removed]"
     },
     "metadata": {},
     "output_type": "display_data",
     "jetTransient": {
      "display_id": null
     }
    }
   ],
   "execution_count": 16
  },
  {
   "cell_type": "markdown",
   "id": "e8e447de",
   "metadata": {},
   "source": [
    "Since the boxplot shows a lot of outliers, we looked at the top 20 players with the highest values. Based on our football knowledge, the four players listed make sense to have a high market value. Therefore, we won’t perform any further data cleaning on that column."
   ]
  },
  {
   "cell_type": "code",
   "id": "98f028f4",
   "metadata": {
    "ExecuteTime": {
     "end_time": "2025-10-18T11:33:44.505665Z",
     "start_time": "2025-10-18T11:33:44.475830Z"
    }
   },
   "source": [
    "# Top 10 player names by market value\n",
    "col = 'market_val_amnt'\n",
    "top20_players = transfer_df.sort_values(by=col, ascending=False).head(20)\n",
    "print(\"Top 20 players by market value:\")\n",
    "print(top20_players['player_name'].to_string(index=False))"
   ],
   "outputs": [
    {
     "name": "stdout",
     "output_type": "stream",
     "text": [
      "Top 20 players by market value:\n",
      "  Kylian Mbappé\n",
      "  Kylian Mbappé\n",
      "  Kylian Mbappé\n",
      "  Kylian Mbappé\n",
      "  Kylian Mbappé\n",
      "  Kylian Mbappé\n",
      "  Kylian Mbappé\n",
      " Erling Haaland\n",
      "     Harry Kane\n",
      "     Harry Kane\n",
      "     Harry Kane\n",
      "     Harry Kane\n",
      "     Harry Kane\n",
      "     Harry Kane\n",
      "     Harry Kane\n",
      "     Harry Kane\n",
      "     Harry Kane\n",
      "     Harry Kane\n",
      "     Harry Kane\n",
      "Kevin De Bruyne\n"
     ]
    }
   ],
   "execution_count": 17
  },
  {
   "cell_type": "markdown",
   "id": "358b79bb",
   "metadata": {},
   "source": [
    "We realized while looking at the top 20 players by transfer fee amount that the data doesn’t make sense, as it might be an error in the dataset. We will be deleting all the players with a transfer fee of 500 million, as they all have the same value. After that, the next player is Neymar at 220 million. The one listed at 250 million also seems incorrect, so we’re removing that as well."
   ]
  },
  {
   "cell_type": "code",
   "id": "30bb9150",
   "metadata": {
    "ExecuteTime": {
     "end_time": "2025-10-18T11:34:25.553336Z",
     "start_time": "2025-10-18T11:34:25.529701Z"
    }
   },
   "source": [
    "transfer_df = transfer_df[transfer_df['transfer_fee_amnt'] <= 222000000.0]"
   ],
   "outputs": [],
   "execution_count": 18
  },
  {
   "cell_type": "code",
   "id": "9fa9d9d9",
   "metadata": {
    "ExecuteTime": {
     "end_time": "2025-10-18T11:34:30.507519Z",
     "start_time": "2025-10-18T11:34:30.489278Z"
    }
   },
   "source": [
    "col = 'transfer_fee_amnt'\n",
    "top20_players_fee = transfer_df.sort_values(by=col, ascending=False).head(20)\n",
    "print(\"Top 20 players by transfer fee amount:\")\n",
    "print(top20_players_fee['player_name'].to_string(index=False))"
   ],
   "outputs": [
    {
     "name": "stdout",
     "output_type": "stream",
     "text": [
      "Top 20 players by transfer fee amount:\n",
      "           Neymar\n",
      "           Neymar\n",
      "    Kylian Mbappé\n",
      "    Kylian Mbappé\n",
      "  Ousmane Dembélé\n",
      "Philippe Coutinho\n",
      "  Ousmane Dembélé\n",
      "Philippe Coutinho\n",
      "       João Félix\n",
      "       João Félix\n",
      "Antoine Griezmann\n",
      "Antoine Griezmann\n",
      "    Jack Grealish\n",
      "    Jack Grealish\n",
      "Cristiano Ronaldo\n",
      "Cristiano Ronaldo\n",
      "    Romelu Lukaku\n",
      "    Romelu Lukaku\n",
      "      Eden Hazard\n",
      "      Eden Hazard\n"
     ]
    }
   ],
   "execution_count": 19
  },
  {
   "cell_type": "markdown",
   "id": "f6dab341",
   "metadata": {},
   "source": [
    "### Resample to LaLiga and Premier League"
   ]
  },
  {
   "cell_type": "markdown",
   "id": "bb8e6d0d",
   "metadata": {},
   "source": [
    "Format your dataset suitable for your task (combine, merge, resample, …)"
   ]
  },
  {
   "cell_type": "code",
   "id": "1a49fb80",
   "metadata": {
    "ExecuteTime": {
     "end_time": "2025-10-18T11:34:42.239340Z",
     "start_time": "2025-10-18T11:34:42.225050Z"
    }
   },
   "source": [
    "transfer_gb1 = transfer_df[transfer_df['league'] == 'GB1']\n",
    "transfer_es1 = transfer_df[transfer_df['league'] == 'ES1']"
   ],
   "outputs": [],
   "execution_count": 20
  },
  {
   "cell_type": "code",
   "id": "937bccb4",
   "metadata": {
    "ExecuteTime": {
     "end_time": "2025-10-18T11:34:48.072666Z",
     "start_time": "2025-10-18T11:34:48.023110Z"
    }
   },
   "source": [
    "transfer_gb1.head(5)"
   ],
   "outputs": [
    {
     "data": {
      "text/plain": [
       "  league  season window  team_id          team_name team_country dir  \\\n",
       "0    GB1    2009      s      985  Manchester United      England  in   \n",
       "1    GB1    2009      s      985  Manchester United      England  in   \n",
       "2    GB1    2009      s      985  Manchester United      England  in   \n",
       "3    GB1    2009      s      985  Manchester United      England  in   \n",
       "4    GB1    2009      s      985  Manchester United      England  in   \n",
       "\n",
       "   player_id       player_name  player_age  ... counter_team_id  \\\n",
       "0      33544  Antonio Valencia          23  ...            1071   \n",
       "1      62049        Mame Diouf          21  ...             687   \n",
       "2      43261   Gabriel Obertan          20  ...              40   \n",
       "3       1397      Michael Owen          29  ...             762   \n",
       "4      73538     Scott Moffatt          18  ...            5242   \n",
       "\n",
       "       counter_team_name  counter_team_country transfer_fee_amnt  \\\n",
       "0         Wigan Athletic               England        18800000.0   \n",
       "1               Molde FK                Norway         4500000.0   \n",
       "2  FC Girondins Bordeaux                France         4000000.0   \n",
       "3       Newcastle United               England               0.0   \n",
       "4  Manchester United U18               England               0.0   \n",
       "\n",
       "  market_val_amnt  is_free  is_loan  is_loan_end  is_retired  transfer_id  \n",
       "0             0.0    False    False        False       False       310832  \n",
       "1       1600000.0    False    False        False       False       319841  \n",
       "2        400000.0    False    False        False       False       315185  \n",
       "3             0.0     True    False        False       False       306421  \n",
       "4             0.0    False    False        False       False       339015  \n",
       "\n",
       "[5 rows x 22 columns]"
      ],
      "text/html": [
       "<div>\n",
       "<style scoped>\n",
       "    .dataframe tbody tr th:only-of-type {\n",
       "        vertical-align: middle;\n",
       "    }\n",
       "\n",
       "    .dataframe tbody tr th {\n",
       "        vertical-align: top;\n",
       "    }\n",
       "\n",
       "    .dataframe thead th {\n",
       "        text-align: right;\n",
       "    }\n",
       "</style>\n",
       "<table border=\"1\" class=\"dataframe\">\n",
       "  <thead>\n",
       "    <tr style=\"text-align: right;\">\n",
       "      <th></th>\n",
       "      <th>league</th>\n",
       "      <th>season</th>\n",
       "      <th>window</th>\n",
       "      <th>team_id</th>\n",
       "      <th>team_name</th>\n",
       "      <th>team_country</th>\n",
       "      <th>dir</th>\n",
       "      <th>player_id</th>\n",
       "      <th>player_name</th>\n",
       "      <th>player_age</th>\n",
       "      <th>...</th>\n",
       "      <th>counter_team_id</th>\n",
       "      <th>counter_team_name</th>\n",
       "      <th>counter_team_country</th>\n",
       "      <th>transfer_fee_amnt</th>\n",
       "      <th>market_val_amnt</th>\n",
       "      <th>is_free</th>\n",
       "      <th>is_loan</th>\n",
       "      <th>is_loan_end</th>\n",
       "      <th>is_retired</th>\n",
       "      <th>transfer_id</th>\n",
       "    </tr>\n",
       "  </thead>\n",
       "  <tbody>\n",
       "    <tr>\n",
       "      <th>0</th>\n",
       "      <td>GB1</td>\n",
       "      <td>2009</td>\n",
       "      <td>s</td>\n",
       "      <td>985</td>\n",
       "      <td>Manchester United</td>\n",
       "      <td>England</td>\n",
       "      <td>in</td>\n",
       "      <td>33544</td>\n",
       "      <td>Antonio Valencia</td>\n",
       "      <td>23</td>\n",
       "      <td>...</td>\n",
       "      <td>1071</td>\n",
       "      <td>Wigan Athletic</td>\n",
       "      <td>England</td>\n",
       "      <td>18800000.0</td>\n",
       "      <td>0.0</td>\n",
       "      <td>False</td>\n",
       "      <td>False</td>\n",
       "      <td>False</td>\n",
       "      <td>False</td>\n",
       "      <td>310832</td>\n",
       "    </tr>\n",
       "    <tr>\n",
       "      <th>1</th>\n",
       "      <td>GB1</td>\n",
       "      <td>2009</td>\n",
       "      <td>s</td>\n",
       "      <td>985</td>\n",
       "      <td>Manchester United</td>\n",
       "      <td>England</td>\n",
       "      <td>in</td>\n",
       "      <td>62049</td>\n",
       "      <td>Mame Diouf</td>\n",
       "      <td>21</td>\n",
       "      <td>...</td>\n",
       "      <td>687</td>\n",
       "      <td>Molde FK</td>\n",
       "      <td>Norway</td>\n",
       "      <td>4500000.0</td>\n",
       "      <td>1600000.0</td>\n",
       "      <td>False</td>\n",
       "      <td>False</td>\n",
       "      <td>False</td>\n",
       "      <td>False</td>\n",
       "      <td>319841</td>\n",
       "    </tr>\n",
       "    <tr>\n",
       "      <th>2</th>\n",
       "      <td>GB1</td>\n",
       "      <td>2009</td>\n",
       "      <td>s</td>\n",
       "      <td>985</td>\n",
       "      <td>Manchester United</td>\n",
       "      <td>England</td>\n",
       "      <td>in</td>\n",
       "      <td>43261</td>\n",
       "      <td>Gabriel Obertan</td>\n",
       "      <td>20</td>\n",
       "      <td>...</td>\n",
       "      <td>40</td>\n",
       "      <td>FC Girondins Bordeaux</td>\n",
       "      <td>France</td>\n",
       "      <td>4000000.0</td>\n",
       "      <td>400000.0</td>\n",
       "      <td>False</td>\n",
       "      <td>False</td>\n",
       "      <td>False</td>\n",
       "      <td>False</td>\n",
       "      <td>315185</td>\n",
       "    </tr>\n",
       "    <tr>\n",
       "      <th>3</th>\n",
       "      <td>GB1</td>\n",
       "      <td>2009</td>\n",
       "      <td>s</td>\n",
       "      <td>985</td>\n",
       "      <td>Manchester United</td>\n",
       "      <td>England</td>\n",
       "      <td>in</td>\n",
       "      <td>1397</td>\n",
       "      <td>Michael Owen</td>\n",
       "      <td>29</td>\n",
       "      <td>...</td>\n",
       "      <td>762</td>\n",
       "      <td>Newcastle United</td>\n",
       "      <td>England</td>\n",
       "      <td>0.0</td>\n",
       "      <td>0.0</td>\n",
       "      <td>True</td>\n",
       "      <td>False</td>\n",
       "      <td>False</td>\n",
       "      <td>False</td>\n",
       "      <td>306421</td>\n",
       "    </tr>\n",
       "    <tr>\n",
       "      <th>4</th>\n",
       "      <td>GB1</td>\n",
       "      <td>2009</td>\n",
       "      <td>s</td>\n",
       "      <td>985</td>\n",
       "      <td>Manchester United</td>\n",
       "      <td>England</td>\n",
       "      <td>in</td>\n",
       "      <td>73538</td>\n",
       "      <td>Scott Moffatt</td>\n",
       "      <td>18</td>\n",
       "      <td>...</td>\n",
       "      <td>5242</td>\n",
       "      <td>Manchester United U18</td>\n",
       "      <td>England</td>\n",
       "      <td>0.0</td>\n",
       "      <td>0.0</td>\n",
       "      <td>False</td>\n",
       "      <td>False</td>\n",
       "      <td>False</td>\n",
       "      <td>False</td>\n",
       "      <td>339015</td>\n",
       "    </tr>\n",
       "  </tbody>\n",
       "</table>\n",
       "<p>5 rows × 22 columns</p>\n",
       "</div>"
      ]
     },
     "execution_count": 21,
     "metadata": {},
     "output_type": "execute_result"
    }
   ],
   "execution_count": 21
  },
  {
   "cell_type": "markdown",
   "id": "70f7a187",
   "metadata": {},
   "source": [
    "### Exploratory Data Analysis"
   ]
  },
  {
   "cell_type": "code",
   "id": "ca7be7e9",
   "metadata": {
    "ExecuteTime": {
     "end_time": "2025-10-18T11:34:59.877390Z",
     "start_time": "2025-10-18T11:34:59.535437Z"
    }
   },
   "source": [
    "leagues = transfer_df['league'].astype(str)\n",
    "league_order = sorted(leagues.unique())  # stable order\n",
    "box_data = [transfer_df.loc[transfer_df['league'] == lg, 'player_age'].values for lg in league_order]\n",
    "\n",
    "plt.figure(figsize=(12, 6))\n",
    "plt.boxplot(box_data, labels=league_order, vert=True, showfliers=True)\n",
    "plt.ylabel('Player age')\n",
    "plt.title('Player age distribution by league')\n",
    "plt.xticks(rotation=30, ha='right')\n",
    "plt.tight_layout()\n",
    "plt.show()"
   ],
   "outputs": [
    {
     "name": "stderr",
     "output_type": "stream",
     "text": [
      "/var/folders/sq/t0n714ls1wz0wbx2mmq780s80000gn/T/ipykernel_58685/2067167180.py:6: MatplotlibDeprecationWarning: The 'labels' parameter of boxplot() has been renamed 'tick_labels' since Matplotlib 3.9; support for the old name will be dropped in 3.11.\n",
      "  plt.boxplot(box_data, labels=league_order, vert=True, showfliers=True)\n"
     ]
    },
    {
     "data": {
      "text/plain": [
       "<Figure size 1200x600 with 1 Axes>"
      ],
      "image/png": "[encoded data removed]"
     },
     "metadata": {},
     "output_type": "display_data",
     "jetTransient": {
      "display_id": null
     }
    }
   ],
   "execution_count": 22
  },
  {
   "cell_type": "code",
   "id": "d150b8a0",
   "metadata": {
    "scrolled": false,
    "ExecuteTime": {
     "end_time": "2025-10-18T11:35:11.833735Z",
     "start_time": "2025-10-18T11:35:11.043203Z"
    }
   },
   "source": [
    "transfer_df['player_pos'] = transfer_df['player_pos'].astype(str).str.strip().str.lower()\n",
    "df_pos = transfer_df.dropna(subset=['league', 'player_pos'])\n",
    "\n",
    "exclude_positions = ['defence', 'attack', 'midfield']\n",
    "df_pos = df_pos[~df_pos['player_pos'].isin(exclude_positions)]\n",
    "\n",
    "pos_counts = (\n",
    "    df_pos.groupby(['league', 'player_pos'])\n",
    "    .size()\n",
    "    .reset_index(name='count')\n",
    ")\n",
    "\n",
    "leagues = sorted(pos_counts['league'].unique())\n",
    "n_leagues = len(leagues)\n",
    "\n",
    "# Plot\n",
    "cols = 3\n",
    "rows = int(np.ceil(n_leagues / cols))\n",
    "plt.figure(figsize=(5 * cols, 4 * rows))\n",
    "\n",
    "for i, lg in enumerate(leagues, 1):\n",
    "    plt.subplot(rows, cols, i)\n",
    "    league_data = pos_counts[pos_counts['league'] == lg].sort_values('count', ascending=False)\n",
    "    plt.bar(league_data['player_pos'], league_data['count'])\n",
    "    plt.title(lg)\n",
    "    plt.xticks(rotation=45, ha='right')\n",
    "    plt.ylabel('Count')\n",
    "\n",
    "plt.suptitle('Player Position Distribution by League (Excluding Generic Roles)', fontsize=16)\n",
    "plt.tight_layout(rect=[0, 0, 1, 0.96])\n",
    "plt.show()"
   ],
   "outputs": [
    {
     "name": "stderr",
     "output_type": "stream",
     "text": [
      "/var/folders/sq/t0n714ls1wz0wbx2mmq780s80000gn/T/ipykernel_58685/2736127508.py:8: FutureWarning: The default of observed=False is deprecated and will be changed to True in a future version of pandas. Pass observed=False to retain current behavior or observed=True to adopt the future default and silence this warning.\n",
      "  df_pos.groupby(['league', 'player_pos'])\n"
     ]
    },
    {
     "data": {
      "text/plain": [
       "<Figure size 1500x1200 with 7 Axes>"
      ],
      "image/png": "[encoded data removed]"
     },
     "metadata": {},
     "output_type": "display_data",
     "jetTransient": {
      "display_id": null
     }
    }
   ],
   "execution_count": 23
  },
  {
   "cell_type": "markdown",
   "id": "7564d9d8",
   "metadata": {},
   "source": [
    "## Scraping Data"
   ]
  },
  {
   "cell_type": "markdown",
   "id": "6bde5290",
   "metadata": {},
   "source": [
    "– Find and interact with at least one dynamic element (search bar, buttons, list scroll, filter, ...) \n",
    "on the website.\n",
    "\n",
    "\n",
    "\n",
    "– Use Selenium and BeautifulSoup "
   ]
  },
  {
   "cell_type": "markdown",
   "id": "ac0e5d12",
   "metadata": {},
   "source": [
    "#### Legal Aspect from the website"
   ]
  },
  {
   "cell_type": "markdown",
   "id": "08b81a01",
   "metadata": {},
   "source": [
    "Bot/Scraping/Crawler Traffic on Sports-Reference.com Sites\n",
    "\n",
    "Sports Reference is primarily dependent on ad revenue, so we must ensure that actual people using web browsers have the best possible experience when using this site. Unfortunately, non-human traffic, ie bots, crawlers, scrapers, can overwhelm our servers with the number of requests they send us in a short amount of time. Therefore we are implementing rate limiting on the site. We will attempt to keep this page up to date with our current settings.\n",
    "\n",
    "Currently we will block users sending requests to:\n",
    "\n",
    "FBref and Stathead sites more often than ten requests in a minute.\n",
    "our other sites more often than twenty requests in a minute.\n",
    "This is regardless of bot type and construction and pages accessed.\n",
    "If you violate this rule your session will be in jail for up to a day."
   ]
  },
  {
   "cell_type": "markdown",
   "id": "64652d5a",
   "metadata": {},
   "source": [
    "### Simple Example"
   ]
  },
  {
   "cell_type": "code",
   "id": "06a19805",
   "metadata": {
    "ExecuteTime": {
     "end_time": "2025-10-18T11:36:27.442525Z",
     "start_time": "2025-10-18T11:36:27.357374Z"
    }
   },
   "source": [
    "URL = \"https://fbref.com/en/comps/9/2009-2010/2009-2010-Premier-League-Stats\"\n",
    "TABLE_ID = \"results2009-201091_overall\"\n",
    "\n",
    "resp = requests.get(URL, headers={\"User-Agent\": \"Mozilla/5.0\"})\n",
    "resp.raise_for_status()\n",
    "\n",
    "soup = BeautifulSoup(resp.text, \"lxml\")\n",
    "table = soup.find(\"table\", id=TABLE_ID)\n",
    "\n",
    "headers = [th.get_text(strip=True) for th in table.thead.find_all(\"th\")]\n",
    "\n",
    "rows = []\n",
    "for tr in table.tbody.find_all(\"tr\"):\n",
    "    cells = [td.get_text(strip=True) for td in tr.find_all([\"th\", \"td\"])]\n",
    "    if any(cells):\n",
    "        rows.append(cells)\n",
    "\n",
    "df_2009 = pd.DataFrame(rows, columns=headers)"
   ],
   "outputs": [
    {
     "ename": "HTTPError",
     "evalue": "403 Client Error: Forbidden for url: https://fbref.com/en/comps/9/2009-2010/2009-2010-Premier-League-Stats",
     "output_type": "error",
     "traceback": [
      "\u001B[0;31m---------------------------------------------------------------------------\u001B[0m",
      "\u001B[0;31mHTTPError\u001B[0m                                 Traceback (most recent call last)",
      "Cell \u001B[0;32mIn[25], line 5\u001B[0m\n\u001B[1;32m      2\u001B[0m TABLE_ID \u001B[38;5;241m=\u001B[39m \u001B[38;5;124m\"\u001B[39m\u001B[38;5;124mresults2009-201091_overall\u001B[39m\u001B[38;5;124m\"\u001B[39m\n\u001B[1;32m      4\u001B[0m resp \u001B[38;5;241m=\u001B[39m requests\u001B[38;5;241m.\u001B[39mget(URL, headers\u001B[38;5;241m=\u001B[39m{\u001B[38;5;124m\"\u001B[39m\u001B[38;5;124mUser-Agent\u001B[39m\u001B[38;5;124m\"\u001B[39m: \u001B[38;5;124m\"\u001B[39m\u001B[38;5;124mMozilla/5.0\u001B[39m\u001B[38;5;124m\"\u001B[39m})\n\u001B[0;32m----> 5\u001B[0m \u001B[43mresp\u001B[49m\u001B[38;5;241;43m.\u001B[39;49m\u001B[43mraise_for_status\u001B[49m\u001B[43m(\u001B[49m\u001B[43m)\u001B[49m\n\u001B[1;32m      7\u001B[0m soup \u001B[38;5;241m=\u001B[39m BeautifulSoup(resp\u001B[38;5;241m.\u001B[39mtext, \u001B[38;5;124m\"\u001B[39m\u001B[38;5;124mlxml\u001B[39m\u001B[38;5;124m\"\u001B[39m)\n\u001B[1;32m      8\u001B[0m table \u001B[38;5;241m=\u001B[39m soup\u001B[38;5;241m.\u001B[39mfind(\u001B[38;5;124m\"\u001B[39m\u001B[38;5;124mtable\u001B[39m\u001B[38;5;124m\"\u001B[39m, \u001B[38;5;28mid\u001B[39m\u001B[38;5;241m=\u001B[39mTABLE_ID)\n",
      "File \u001B[0;32m~/PyCharmMiscProject/.venv/lib/python3.13/site-packages/requests/models.py:1024\u001B[0m, in \u001B[0;36mResponse.raise_for_status\u001B[0;34m(self)\u001B[0m\n\u001B[1;32m   1019\u001B[0m     http_error_msg \u001B[38;5;241m=\u001B[39m (\n\u001B[1;32m   1020\u001B[0m         \u001B[38;5;124mf\u001B[39m\u001B[38;5;124m\"\u001B[39m\u001B[38;5;132;01m{\u001B[39;00m\u001B[38;5;28mself\u001B[39m\u001B[38;5;241m.\u001B[39mstatus_code\u001B[38;5;132;01m}\u001B[39;00m\u001B[38;5;124m Server Error: \u001B[39m\u001B[38;5;132;01m{\u001B[39;00mreason\u001B[38;5;132;01m}\u001B[39;00m\u001B[38;5;124m for url: \u001B[39m\u001B[38;5;132;01m{\u001B[39;00m\u001B[38;5;28mself\u001B[39m\u001B[38;5;241m.\u001B[39murl\u001B[38;5;132;01m}\u001B[39;00m\u001B[38;5;124m\"\u001B[39m\n\u001B[1;32m   1021\u001B[0m     )\n\u001B[1;32m   1023\u001B[0m \u001B[38;5;28;01mif\u001B[39;00m http_error_msg:\n\u001B[0;32m-> 1024\u001B[0m     \u001B[38;5;28;01mraise\u001B[39;00m HTTPError(http_error_msg, response\u001B[38;5;241m=\u001B[39m\u001B[38;5;28mself\u001B[39m)\n",
      "\u001B[0;31mHTTPError\u001B[0m: 403 Client Error: Forbidden for url: https://fbref.com/en/comps/9/2009-2010/2009-2010-Premier-League-Stats"
     ]
    }
   ],
   "execution_count": 25
  },
  {
   "cell_type": "code",
   "execution_count": 22,
   "id": "d15228c2",
   "metadata": {},
   "outputs": [
    {
     "data": {
      "text/html": [
       "<div>\n",
       "<style scoped>\n",
       "    .dataframe tbody tr th:only-of-type {\n",
       "        vertical-align: middle;\n",
       "    }\n",
       "\n",
       "    .dataframe tbody tr th {\n",
       "        vertical-align: top;\n",
       "    }\n",
       "\n",
       "    .dataframe thead th {\n",
       "        text-align: right;\n",
       "    }\n",
       "</style>\n",
       "<table border=\"1\" class=\"dataframe\">\n",
       "  <thead>\n",
       "    <tr style=\"text-align: right;\">\n",
       "      <th></th>\n",
       "      <th>Rk</th>\n",
       "      <th>Squad</th>\n",
       "      <th>MP</th>\n",
       "      <th>W</th>\n",
       "      <th>D</th>\n",
       "      <th>L</th>\n",
       "      <th>GF</th>\n",
       "      <th>GA</th>\n",
       "      <th>GD</th>\n",
       "      <th>Pts</th>\n",
       "      <th>Pts/MP</th>\n",
       "      <th>Attendance</th>\n",
       "      <th>Top Team Scorer</th>\n",
       "      <th>Goalkeeper</th>\n",
       "      <th>Notes</th>\n",
       "    </tr>\n",
       "  </thead>\n",
       "  <tbody>\n",
       "    <tr>\n",
       "      <th>0</th>\n",
       "      <td>1</td>\n",
       "      <td>Chelsea</td>\n",
       "      <td>38</td>\n",
       "      <td>27</td>\n",
       "      <td>5</td>\n",
       "      <td>6</td>\n",
       "      <td>103</td>\n",
       "      <td>32</td>\n",
       "      <td>+71</td>\n",
       "      <td>86</td>\n",
       "      <td>2.26</td>\n",
       "      <td>41,423</td>\n",
       "      <td>Didier Drogba-29</td>\n",
       "      <td>Petr Čech</td>\n",
       "      <td>→ Champions League via league finish</td>\n",
       "    </tr>\n",
       "    <tr>\n",
       "      <th>1</th>\n",
       "      <td>2</td>\n",
       "      <td>Manchester Utd</td>\n",
       "      <td>38</td>\n",
       "      <td>27</td>\n",
       "      <td>4</td>\n",
       "      <td>7</td>\n",
       "      <td>86</td>\n",
       "      <td>28</td>\n",
       "      <td>+58</td>\n",
       "      <td>85</td>\n",
       "      <td>2.24</td>\n",
       "      <td>74,864</td>\n",
       "      <td>Wayne Rooney-26</td>\n",
       "      <td>Edwin van der Sar</td>\n",
       "      <td>→ Champions League via league finish</td>\n",
       "    </tr>\n",
       "    <tr>\n",
       "      <th>2</th>\n",
       "      <td>3</td>\n",
       "      <td>Arsenal</td>\n",
       "      <td>38</td>\n",
       "      <td>23</td>\n",
       "      <td>6</td>\n",
       "      <td>9</td>\n",
       "      <td>83</td>\n",
       "      <td>41</td>\n",
       "      <td>+42</td>\n",
       "      <td>75</td>\n",
       "      <td>1.97</td>\n",
       "      <td>63,256</td>\n",
       "      <td>Cesc Fàbregas-15</td>\n",
       "      <td>Manuel Almunia</td>\n",
       "      <td>→ Champions League via league finish</td>\n",
       "    </tr>\n",
       "    <tr>\n",
       "      <th>3</th>\n",
       "      <td>4</td>\n",
       "      <td>Tottenham</td>\n",
       "      <td>38</td>\n",
       "      <td>21</td>\n",
       "      <td>7</td>\n",
       "      <td>10</td>\n",
       "      <td>67</td>\n",
       "      <td>41</td>\n",
       "      <td>+26</td>\n",
       "      <td>70</td>\n",
       "      <td>1.84</td>\n",
       "      <td>35,794</td>\n",
       "      <td>Jermain Defoe-18</td>\n",
       "      <td>Heurelho Gomes</td>\n",
       "      <td>→ Champions League via league finish</td>\n",
       "    </tr>\n",
       "    <tr>\n",
       "      <th>4</th>\n",
       "      <td>5</td>\n",
       "      <td>Manchester City</td>\n",
       "      <td>38</td>\n",
       "      <td>18</td>\n",
       "      <td>13</td>\n",
       "      <td>7</td>\n",
       "      <td>73</td>\n",
       "      <td>45</td>\n",
       "      <td>+28</td>\n",
       "      <td>67</td>\n",
       "      <td>1.76</td>\n",
       "      <td>45,513</td>\n",
       "      <td>Carlos Tevez-23</td>\n",
       "      <td>Shay Given</td>\n",
       "      <td>→ Europa League via league finish</td>\n",
       "    </tr>\n",
       "  </tbody>\n",
       "</table>\n",
       "</div>"
      ],
      "text/plain": [
       "  Rk            Squad  MP   W   D   L   GF  GA   GD Pts Pts/MP Attendance  \\\n",
       "0  1          Chelsea  38  27   5   6  103  32  +71  86   2.26     41,423   \n",
       "1  2   Manchester Utd  38  27   4   7   86  28  +58  85   2.24     74,864   \n",
       "2  3          Arsenal  38  23   6   9   83  41  +42  75   1.97     63,256   \n",
       "3  4        Tottenham  38  21   7  10   67  41  +26  70   1.84     35,794   \n",
       "4  5  Manchester City  38  18  13   7   73  45  +28  67   1.76     45,513   \n",
       "\n",
       "    Top Team Scorer         Goalkeeper                                 Notes  \n",
       "0  Didier Drogba-29          Petr Čech  → Champions League via league finish  \n",
       "1   Wayne Rooney-26  Edwin van der Sar  → Champions League via league finish  \n",
       "2  Cesc Fàbregas-15     Manuel Almunia  → Champions League via league finish  \n",
       "3  Jermain Defoe-18     Heurelho Gomes  → Champions League via league finish  \n",
       "4   Carlos Tevez-23         Shay Given     → Europa League via league finish  "
      ]
     },
     "execution_count": 22,
     "metadata": {},
     "output_type": "execute_result"
    }
   ],
   "source": [
    "df_2009.head(5)"
   ]
  },
  {
   "cell_type": "code",
   "execution_count": 23,
   "id": "bb7aa58a",
   "metadata": {},
   "outputs": [],
   "source": [
    "df_2009[['Top Team Scorer', 'Goals']] = df_2009['Top Team Scorer'].str.extract(r'(.+)-(\\d+)', expand=True)\n",
    "\n",
    "df_2009['Goals'] = df_2009['Goals'].astype(int)\n",
    "\n",
    "cols = df_2009.columns.tolist()\n",
    "insert_at = cols.index('Top Team Scorer') + 1\n",
    "cols.insert(insert_at, cols.pop(cols.index('Goals')))\n",
    "df_2009 = df_2009[cols]"
   ]
  },
  {
   "cell_type": "code",
   "execution_count": 31,
   "id": "f92901f3",
   "metadata": {},
   "outputs": [
    {
     "data": {
      "text/html": [
       "<div>\n",
       "<style scoped>\n",
       "    .dataframe tbody tr th:only-of-type {\n",
       "        vertical-align: middle;\n",
       "    }\n",
       "\n",
       "    .dataframe tbody tr th {\n",
       "        vertical-align: top;\n",
       "    }\n",
       "\n",
       "    .dataframe thead th {\n",
       "        text-align: right;\n",
       "    }\n",
       "</style>\n",
       "<table border=\"1\" class=\"dataframe\">\n",
       "  <thead>\n",
       "    <tr style=\"text-align: right;\">\n",
       "      <th></th>\n",
       "      <th>Rk</th>\n",
       "      <th>Squad</th>\n",
       "      <th>MP</th>\n",
       "      <th>W</th>\n",
       "      <th>D</th>\n",
       "      <th>L</th>\n",
       "      <th>GF</th>\n",
       "      <th>GA</th>\n",
       "      <th>GD</th>\n",
       "      <th>Pts</th>\n",
       "      <th>Pts/MP</th>\n",
       "      <th>Attendance</th>\n",
       "      <th>Top Team Scorer</th>\n",
       "      <th>Goals</th>\n",
       "      <th>Goalkeeper</th>\n",
       "      <th>Notes</th>\n",
       "    </tr>\n",
       "  </thead>\n",
       "  <tbody>\n",
       "    <tr>\n",
       "      <th>0</th>\n",
       "      <td>1</td>\n",
       "      <td>Chelsea</td>\n",
       "      <td>38</td>\n",
       "      <td>27</td>\n",
       "      <td>5</td>\n",
       "      <td>6</td>\n",
       "      <td>103</td>\n",
       "      <td>32</td>\n",
       "      <td>+71</td>\n",
       "      <td>86</td>\n",
       "      <td>2.26</td>\n",
       "      <td>41,423</td>\n",
       "      <td>Didier Drogba</td>\n",
       "      <td>29</td>\n",
       "      <td>Petr Čech</td>\n",
       "      <td>→ Champions League via league finish</td>\n",
       "    </tr>\n",
       "    <tr>\n",
       "      <th>1</th>\n",
       "      <td>2</td>\n",
       "      <td>Manchester Utd</td>\n",
       "      <td>38</td>\n",
       "      <td>27</td>\n",
       "      <td>4</td>\n",
       "      <td>7</td>\n",
       "      <td>86</td>\n",
       "      <td>28</td>\n",
       "      <td>+58</td>\n",
       "      <td>85</td>\n",
       "      <td>2.24</td>\n",
       "      <td>74,864</td>\n",
       "      <td>Wayne Rooney</td>\n",
       "      <td>26</td>\n",
       "      <td>Edwin van der Sar</td>\n",
       "      <td>→ Champions League via league finish</td>\n",
       "    </tr>\n",
       "    <tr>\n",
       "      <th>2</th>\n",
       "      <td>3</td>\n",
       "      <td>Arsenal</td>\n",
       "      <td>38</td>\n",
       "      <td>23</td>\n",
       "      <td>6</td>\n",
       "      <td>9</td>\n",
       "      <td>83</td>\n",
       "      <td>41</td>\n",
       "      <td>+42</td>\n",
       "      <td>75</td>\n",
       "      <td>1.97</td>\n",
       "      <td>63,256</td>\n",
       "      <td>Cesc Fàbregas</td>\n",
       "      <td>15</td>\n",
       "      <td>Manuel Almunia</td>\n",
       "      <td>→ Champions League via league finish</td>\n",
       "    </tr>\n",
       "    <tr>\n",
       "      <th>3</th>\n",
       "      <td>4</td>\n",
       "      <td>Tottenham</td>\n",
       "      <td>38</td>\n",
       "      <td>21</td>\n",
       "      <td>7</td>\n",
       "      <td>10</td>\n",
       "      <td>67</td>\n",
       "      <td>41</td>\n",
       "      <td>+26</td>\n",
       "      <td>70</td>\n",
       "      <td>1.84</td>\n",
       "      <td>35,794</td>\n",
       "      <td>Jermain Defoe</td>\n",
       "      <td>18</td>\n",
       "      <td>Heurelho Gomes</td>\n",
       "      <td>→ Champions League via league finish</td>\n",
       "    </tr>\n",
       "    <tr>\n",
       "      <th>4</th>\n",
       "      <td>5</td>\n",
       "      <td>Manchester City</td>\n",
       "      <td>38</td>\n",
       "      <td>18</td>\n",
       "      <td>13</td>\n",
       "      <td>7</td>\n",
       "      <td>73</td>\n",
       "      <td>45</td>\n",
       "      <td>+28</td>\n",
       "      <td>67</td>\n",
       "      <td>1.76</td>\n",
       "      <td>45,513</td>\n",
       "      <td>Carlos Tevez</td>\n",
       "      <td>23</td>\n",
       "      <td>Shay Given</td>\n",
       "      <td>→ Europa League via league finish</td>\n",
       "    </tr>\n",
       "  </tbody>\n",
       "</table>\n",
       "</div>"
      ],
      "text/plain": [
       "  Rk            Squad  MP   W   D   L   GF  GA   GD Pts Pts/MP Attendance  \\\n",
       "0  1          Chelsea  38  27   5   6  103  32  +71  86   2.26     41,423   \n",
       "1  2   Manchester Utd  38  27   4   7   86  28  +58  85   2.24     74,864   \n",
       "2  3          Arsenal  38  23   6   9   83  41  +42  75   1.97     63,256   \n",
       "3  4        Tottenham  38  21   7  10   67  41  +26  70   1.84     35,794   \n",
       "4  5  Manchester City  38  18  13   7   73  45  +28  67   1.76     45,513   \n",
       "\n",
       "  Top Team Scorer  Goals         Goalkeeper  \\\n",
       "0   Didier Drogba     29          Petr Čech   \n",
       "1    Wayne Rooney     26  Edwin van der Sar   \n",
       "2   Cesc Fàbregas     15     Manuel Almunia   \n",
       "3   Jermain Defoe     18     Heurelho Gomes   \n",
       "4    Carlos Tevez     23         Shay Given   \n",
       "\n",
       "                                  Notes  \n",
       "0  → Champions League via league finish  \n",
       "1  → Champions League via league finish  \n",
       "2  → Champions League via league finish  \n",
       "3  → Champions League via league finish  \n",
       "4     → Europa League via league finish  "
      ]
     },
     "execution_count": 31,
     "metadata": {},
     "output_type": "execute_result"
    }
   ],
   "source": [
    "df_2009.head(5)"
   ]
  },
  {
   "cell_type": "markdown",
   "id": "e74676e1",
   "metadata": {},
   "source": [
    "-----------------------------------"
   ]
  },
  {
   "cell_type": "markdown",
   "id": "bc3c4e23",
   "metadata": {},
   "source": [
    "### Scraping 3 Seasons and their Final Standings"
   ]
  },
  {
   "cell_type": "markdown",
   "id": "95ecb4f9",
   "metadata": {},
   "source": [
    "From the example above and with help from ChatGPT, we defined a function to extract three seasons from the Premier League’s final standings and scrape them into a single DataFrame."
   ]
  },
  {
   "cell_type": "code",
   "execution_count": 39,
   "id": "83842905",
   "metadata": {},
   "outputs": [],
   "source": [
    "def scrape_pl_results_overall(season: str) -> pd.DataFrame:\n",
    "    url = f\"https://fbref.com/en/comps/9/{season}/{season}-Premier-League-Stats\"\n",
    "    resp = requests.get(url, headers={\"User-Agent\": \"Mozilla/5.0\"})\n",
    "    resp.raise_for_status()\n",
    "\n",
    "    soup = BeautifulSoup(resp.text, \"lxml\")\n",
    "    table = soup.find(\"table\", id=re.compile(r\"^results.*_overall$\"))\n",
    "    if table is None:\n",
    "        raise ValueError(f\"Couldn't find results table for season {season} at {url}\")\n",
    "\n",
    "    headers = [th.get_text(strip=True) for th in table.thead.find_all(\"th\")]\n",
    "\n",
    "    rows = []\n",
    "    for tr in table.tbody.find_all(\"tr\"):\n",
    "        cells = [td.get_text(strip=True) for td in tr.find_all([\"th\", \"td\"])]\n",
    "        if any(cells):\n",
    "            rows.append(cells)\n",
    "\n",
    "    return pd.DataFrame(rows, columns=headers)\n",
    "\n",
    "seasons = [\"2013-2014\", \"2014-2015\", \"2015-2016\"]\n",
    "\n",
    "df_2013 = scrape_pl_results_overall(\"2013-2014\")\n",
    "df_2014 = scrape_pl_results_overall(\"2014-2015\")\n",
    "df_2015 = scrape_pl_results_overall(\"2015-2016\")"
   ]
  },
  {
   "cell_type": "code",
   "execution_count": 41,
   "id": "2bde7f05",
   "metadata": {},
   "outputs": [],
   "source": [
    "df_2013[['Top Team Scorer', 'Goals']] = df_2013['Top Team Scorer'].str.extract(r'(.+)-(\\d+)', expand=True)\n",
    "df_2013['Goals'] = df_2013['Goals'].astype(int)\n",
    "\n",
    "cols = df_2013.columns.tolist()\n",
    "insert_at = cols.index('Top Team Scorer') + 1\n",
    "cols.insert(insert_at, cols.pop(cols.index('Goals')))\n",
    "df_2013 = df_2013[cols]\n",
    "\n",
    "\n",
    "df_2014[['Top Team Scorer', 'Goals']] = df_2014['Top Team Scorer'].str.extract(r'(.+)-(\\d+)', expand=True)\n",
    "df_2014['Goals'] = df_2014['Goals'].astype(int)\n",
    "\n",
    "cols = df_2014.columns.tolist()\n",
    "insert_at = cols.index('Top Team Scorer') + 1\n",
    "cols.insert(insert_at, cols.pop(cols.index('Goals')))\n",
    "df_2014 = df_2014[cols]\n",
    "\n",
    "\n",
    "df_2015[['Top Team Scorer', 'Goals']] = df_2015['Top Team Scorer'].str.extract(r'(.+)-(\\d+)', expand=True)\n",
    "df_2015['Goals'] = df_2015['Goals'].astype(int)\n",
    "\n",
    "cols = df_2015.columns.tolist()\n",
    "insert_at = cols.index('Top Team Scorer') + 1\n",
    "cols.insert(insert_at, cols.pop(cols.index('Goals')))\n",
    "df_2015 = df_2015[cols]"
   ]
  },
  {
   "cell_type": "code",
   "execution_count": 42,
   "id": "21113477",
   "metadata": {},
   "outputs": [
    {
     "data": {
      "text/html": [
       "<div>\n",
       "<style scoped>\n",
       "    .dataframe tbody tr th:only-of-type {\n",
       "        vertical-align: middle;\n",
       "    }\n",
       "\n",
       "    .dataframe tbody tr th {\n",
       "        vertical-align: top;\n",
       "    }\n",
       "\n",
       "    .dataframe thead th {\n",
       "        text-align: right;\n",
       "    }\n",
       "</style>\n",
       "<table border=\"1\" class=\"dataframe\">\n",
       "  <thead>\n",
       "    <tr style=\"text-align: right;\">\n",
       "      <th></th>\n",
       "      <th>Rk</th>\n",
       "      <th>Squad</th>\n",
       "      <th>MP</th>\n",
       "      <th>W</th>\n",
       "      <th>D</th>\n",
       "      <th>L</th>\n",
       "      <th>GF</th>\n",
       "      <th>GA</th>\n",
       "      <th>GD</th>\n",
       "      <th>Pts</th>\n",
       "      <th>Pts/MP</th>\n",
       "      <th>Attendance</th>\n",
       "      <th>Top Team Scorer</th>\n",
       "      <th>Goals</th>\n",
       "      <th>Goalkeeper</th>\n",
       "      <th>Notes</th>\n",
       "    </tr>\n",
       "  </thead>\n",
       "  <tbody>\n",
       "    <tr>\n",
       "      <th>0</th>\n",
       "      <td>1</td>\n",
       "      <td>Manchester City</td>\n",
       "      <td>38</td>\n",
       "      <td>27</td>\n",
       "      <td>5</td>\n",
       "      <td>6</td>\n",
       "      <td>102</td>\n",
       "      <td>37</td>\n",
       "      <td>+65</td>\n",
       "      <td>86</td>\n",
       "      <td>2.26</td>\n",
       "      <td>47,080</td>\n",
       "      <td>Yaya Touré</td>\n",
       "      <td>20</td>\n",
       "      <td>Joe Hart</td>\n",
       "      <td>→ Champions League via league finish</td>\n",
       "    </tr>\n",
       "    <tr>\n",
       "      <th>1</th>\n",
       "      <td>2</td>\n",
       "      <td>Liverpool</td>\n",
       "      <td>38</td>\n",
       "      <td>26</td>\n",
       "      <td>6</td>\n",
       "      <td>6</td>\n",
       "      <td>101</td>\n",
       "      <td>50</td>\n",
       "      <td>+51</td>\n",
       "      <td>84</td>\n",
       "      <td>2.21</td>\n",
       "      <td>44,671</td>\n",
       "      <td>Luis Suárez</td>\n",
       "      <td>31</td>\n",
       "      <td>Simon Mignolet</td>\n",
       "      <td>→ Champions League via league finish</td>\n",
       "    </tr>\n",
       "    <tr>\n",
       "      <th>2</th>\n",
       "      <td>3</td>\n",
       "      <td>Chelsea</td>\n",
       "      <td>38</td>\n",
       "      <td>25</td>\n",
       "      <td>7</td>\n",
       "      <td>6</td>\n",
       "      <td>71</td>\n",
       "      <td>27</td>\n",
       "      <td>+44</td>\n",
       "      <td>82</td>\n",
       "      <td>2.16</td>\n",
       "      <td>41,482</td>\n",
       "      <td>Eden Hazard</td>\n",
       "      <td>14</td>\n",
       "      <td>Petr Čech</td>\n",
       "      <td>→ Champions League via league finish</td>\n",
       "    </tr>\n",
       "    <tr>\n",
       "      <th>3</th>\n",
       "      <td>4</td>\n",
       "      <td>Arsenal</td>\n",
       "      <td>38</td>\n",
       "      <td>24</td>\n",
       "      <td>7</td>\n",
       "      <td>7</td>\n",
       "      <td>68</td>\n",
       "      <td>41</td>\n",
       "      <td>+27</td>\n",
       "      <td>79</td>\n",
       "      <td>2.08</td>\n",
       "      <td>60,013</td>\n",
       "      <td>Olivier Giroud</td>\n",
       "      <td>16</td>\n",
       "      <td>Wojciech Szczęsny</td>\n",
       "      <td>→ Champions League via league finish</td>\n",
       "    </tr>\n",
       "    <tr>\n",
       "      <th>4</th>\n",
       "      <td>5</td>\n",
       "      <td>Everton</td>\n",
       "      <td>38</td>\n",
       "      <td>21</td>\n",
       "      <td>9</td>\n",
       "      <td>8</td>\n",
       "      <td>61</td>\n",
       "      <td>39</td>\n",
       "      <td>+22</td>\n",
       "      <td>72</td>\n",
       "      <td>1.89</td>\n",
       "      <td>37,732</td>\n",
       "      <td>Romelu Lukaku</td>\n",
       "      <td>15</td>\n",
       "      <td>Tim Howard</td>\n",
       "      <td>→ Europa League via league finish1</td>\n",
       "    </tr>\n",
       "    <tr>\n",
       "      <th>5</th>\n",
       "      <td>6</td>\n",
       "      <td>Tottenham</td>\n",
       "      <td>38</td>\n",
       "      <td>21</td>\n",
       "      <td>6</td>\n",
       "      <td>11</td>\n",
       "      <td>55</td>\n",
       "      <td>51</td>\n",
       "      <td>+4</td>\n",
       "      <td>69</td>\n",
       "      <td>1.82</td>\n",
       "      <td>35,808</td>\n",
       "      <td>Emmanuel Adebayor</td>\n",
       "      <td>11</td>\n",
       "      <td>Hugo Lloris</td>\n",
       "      <td>→ Europa League via league finish</td>\n",
       "    </tr>\n",
       "    <tr>\n",
       "      <th>6</th>\n",
       "      <td>7</td>\n",
       "      <td>Manchester Utd</td>\n",
       "      <td>38</td>\n",
       "      <td>19</td>\n",
       "      <td>7</td>\n",
       "      <td>12</td>\n",
       "      <td>64</td>\n",
       "      <td>43</td>\n",
       "      <td>+21</td>\n",
       "      <td>64</td>\n",
       "      <td>1.68</td>\n",
       "      <td>75,207</td>\n",
       "      <td>Wayne Rooney</td>\n",
       "      <td>17</td>\n",
       "      <td>David de Gea</td>\n",
       "      <td></td>\n",
       "    </tr>\n",
       "    <tr>\n",
       "      <th>7</th>\n",
       "      <td>8</td>\n",
       "      <td>Southampton</td>\n",
       "      <td>38</td>\n",
       "      <td>15</td>\n",
       "      <td>11</td>\n",
       "      <td>12</td>\n",
       "      <td>54</td>\n",
       "      <td>46</td>\n",
       "      <td>+8</td>\n",
       "      <td>56</td>\n",
       "      <td>1.47</td>\n",
       "      <td>30,212</td>\n",
       "      <td>Jay Rodriguez</td>\n",
       "      <td>15</td>\n",
       "      <td>Artur Boruc</td>\n",
       "      <td></td>\n",
       "    </tr>\n",
       "    <tr>\n",
       "      <th>8</th>\n",
       "      <td>9</td>\n",
       "      <td>Stoke City</td>\n",
       "      <td>38</td>\n",
       "      <td>13</td>\n",
       "      <td>11</td>\n",
       "      <td>14</td>\n",
       "      <td>45</td>\n",
       "      <td>52</td>\n",
       "      <td>-7</td>\n",
       "      <td>50</td>\n",
       "      <td>1.32</td>\n",
       "      <td>26,137</td>\n",
       "      <td>Charlie Adam,Peter Crouch</td>\n",
       "      <td>7</td>\n",
       "      <td>Asmir Begović</td>\n",
       "      <td></td>\n",
       "    </tr>\n",
       "    <tr>\n",
       "      <th>9</th>\n",
       "      <td>10</td>\n",
       "      <td>Newcastle Utd</td>\n",
       "      <td>38</td>\n",
       "      <td>15</td>\n",
       "      <td>4</td>\n",
       "      <td>19</td>\n",
       "      <td>43</td>\n",
       "      <td>59</td>\n",
       "      <td>-16</td>\n",
       "      <td>49</td>\n",
       "      <td>1.29</td>\n",
       "      <td>50,395</td>\n",
       "      <td>Loïc Rémy</td>\n",
       "      <td>14</td>\n",
       "      <td>Tim Krul</td>\n",
       "      <td></td>\n",
       "    </tr>\n",
       "    <tr>\n",
       "      <th>10</th>\n",
       "      <td>11</td>\n",
       "      <td>Crystal Palace</td>\n",
       "      <td>38</td>\n",
       "      <td>13</td>\n",
       "      <td>6</td>\n",
       "      <td>19</td>\n",
       "      <td>33</td>\n",
       "      <td>48</td>\n",
       "      <td>-15</td>\n",
       "      <td>45</td>\n",
       "      <td>1.18</td>\n",
       "      <td>24,114</td>\n",
       "      <td>Dwight Gayle,Jason Puncheon</td>\n",
       "      <td>7</td>\n",
       "      <td>Julián Speroni</td>\n",
       "      <td></td>\n",
       "    </tr>\n",
       "    <tr>\n",
       "      <th>11</th>\n",
       "      <td>12</td>\n",
       "      <td>Swansea City</td>\n",
       "      <td>38</td>\n",
       "      <td>11</td>\n",
       "      <td>9</td>\n",
       "      <td>18</td>\n",
       "      <td>54</td>\n",
       "      <td>54</td>\n",
       "      <td>0</td>\n",
       "      <td>42</td>\n",
       "      <td>1.11</td>\n",
       "      <td>20,407</td>\n",
       "      <td>Wilfried Bony</td>\n",
       "      <td>16</td>\n",
       "      <td>Michel Vorm</td>\n",
       "      <td></td>\n",
       "    </tr>\n",
       "    <tr>\n",
       "      <th>12</th>\n",
       "      <td>13</td>\n",
       "      <td>West Ham</td>\n",
       "      <td>38</td>\n",
       "      <td>11</td>\n",
       "      <td>7</td>\n",
       "      <td>20</td>\n",
       "      <td>40</td>\n",
       "      <td>51</td>\n",
       "      <td>-11</td>\n",
       "      <td>40</td>\n",
       "      <td>1.05</td>\n",
       "      <td>34,197</td>\n",
       "      <td>Kevin Nolan</td>\n",
       "      <td>7</td>\n",
       "      <td>Adrián</td>\n",
       "      <td></td>\n",
       "    </tr>\n",
       "    <tr>\n",
       "      <th>13</th>\n",
       "      <td>14</td>\n",
       "      <td>Sunderland</td>\n",
       "      <td>38</td>\n",
       "      <td>10</td>\n",
       "      <td>8</td>\n",
       "      <td>20</td>\n",
       "      <td>41</td>\n",
       "      <td>60</td>\n",
       "      <td>-19</td>\n",
       "      <td>38</td>\n",
       "      <td>1.00</td>\n",
       "      <td>41,090</td>\n",
       "      <td>Adam Johnson</td>\n",
       "      <td>8</td>\n",
       "      <td>Vito Mannone</td>\n",
       "      <td></td>\n",
       "    </tr>\n",
       "    <tr>\n",
       "      <th>14</th>\n",
       "      <td>15</td>\n",
       "      <td>Aston Villa</td>\n",
       "      <td>38</td>\n",
       "      <td>10</td>\n",
       "      <td>8</td>\n",
       "      <td>20</td>\n",
       "      <td>39</td>\n",
       "      <td>61</td>\n",
       "      <td>-22</td>\n",
       "      <td>38</td>\n",
       "      <td>1.00</td>\n",
       "      <td>36,081</td>\n",
       "      <td>Christian Benteke</td>\n",
       "      <td>10</td>\n",
       "      <td>Brad Guzan</td>\n",
       "      <td></td>\n",
       "    </tr>\n",
       "    <tr>\n",
       "      <th>15</th>\n",
       "      <td>16</td>\n",
       "      <td>Hull City</td>\n",
       "      <td>38</td>\n",
       "      <td>10</td>\n",
       "      <td>7</td>\n",
       "      <td>21</td>\n",
       "      <td>38</td>\n",
       "      <td>53</td>\n",
       "      <td>-15</td>\n",
       "      <td>37</td>\n",
       "      <td>0.97</td>\n",
       "      <td>24,117</td>\n",
       "      <td>Nikica Jelavić</td>\n",
       "      <td>5</td>\n",
       "      <td>Allan McGregor</td>\n",
       "      <td>→ Europa League via cup loss2</td>\n",
       "    </tr>\n",
       "    <tr>\n",
       "      <th>16</th>\n",
       "      <td>17</td>\n",
       "      <td>West Brom</td>\n",
       "      <td>38</td>\n",
       "      <td>7</td>\n",
       "      <td>15</td>\n",
       "      <td>16</td>\n",
       "      <td>43</td>\n",
       "      <td>59</td>\n",
       "      <td>-16</td>\n",
       "      <td>36</td>\n",
       "      <td>0.95</td>\n",
       "      <td>25,194</td>\n",
       "      <td>Saido Berahino,Stéphane Sessègnon</td>\n",
       "      <td>5</td>\n",
       "      <td>Ben Foster</td>\n",
       "      <td></td>\n",
       "    </tr>\n",
       "    <tr>\n",
       "      <th>17</th>\n",
       "      <td>18</td>\n",
       "      <td>Norwich City</td>\n",
       "      <td>38</td>\n",
       "      <td>8</td>\n",
       "      <td>9</td>\n",
       "      <td>21</td>\n",
       "      <td>28</td>\n",
       "      <td>62</td>\n",
       "      <td>-34</td>\n",
       "      <td>33</td>\n",
       "      <td>0.87</td>\n",
       "      <td>26,805</td>\n",
       "      <td>Gary Hooper,Robert Snodgrass</td>\n",
       "      <td>6</td>\n",
       "      <td>John Ruddy</td>\n",
       "      <td>Relegated</td>\n",
       "    </tr>\n",
       "    <tr>\n",
       "      <th>18</th>\n",
       "      <td>19</td>\n",
       "      <td>Fulham</td>\n",
       "      <td>38</td>\n",
       "      <td>9</td>\n",
       "      <td>5</td>\n",
       "      <td>24</td>\n",
       "      <td>40</td>\n",
       "      <td>85</td>\n",
       "      <td>-45</td>\n",
       "      <td>32</td>\n",
       "      <td>0.84</td>\n",
       "      <td>24,977</td>\n",
       "      <td>Steve Sidwell</td>\n",
       "      <td>7</td>\n",
       "      <td>David Stockdale</td>\n",
       "      <td>Relegated</td>\n",
       "    </tr>\n",
       "    <tr>\n",
       "      <th>19</th>\n",
       "      <td>20</td>\n",
       "      <td>Cardiff City</td>\n",
       "      <td>38</td>\n",
       "      <td>7</td>\n",
       "      <td>9</td>\n",
       "      <td>22</td>\n",
       "      <td>32</td>\n",
       "      <td>74</td>\n",
       "      <td>-42</td>\n",
       "      <td>30</td>\n",
       "      <td>0.79</td>\n",
       "      <td>27,430</td>\n",
       "      <td>Jordon Mutch</td>\n",
       "      <td>7</td>\n",
       "      <td>David Marshall</td>\n",
       "      <td>Relegated</td>\n",
       "    </tr>\n",
       "  </tbody>\n",
       "</table>\n",
       "</div>"
      ],
      "text/plain": [
       "    Rk            Squad  MP   W   D   L   GF  GA   GD Pts Pts/MP Attendance  \\\n",
       "0    1  Manchester City  38  27   5   6  102  37  +65  86   2.26     47,080   \n",
       "1    2        Liverpool  38  26   6   6  101  50  +51  84   2.21     44,671   \n",
       "2    3          Chelsea  38  25   7   6   71  27  +44  82   2.16     41,482   \n",
       "3    4          Arsenal  38  24   7   7   68  41  +27  79   2.08     60,013   \n",
       "4    5          Everton  38  21   9   8   61  39  +22  72   1.89     37,732   \n",
       "5    6        Tottenham  38  21   6  11   55  51   +4  69   1.82     35,808   \n",
       "6    7   Manchester Utd  38  19   7  12   64  43  +21  64   1.68     75,207   \n",
       "7    8      Southampton  38  15  11  12   54  46   +8  56   1.47     30,212   \n",
       "8    9       Stoke City  38  13  11  14   45  52   -7  50   1.32     26,137   \n",
       "9   10    Newcastle Utd  38  15   4  19   43  59  -16  49   1.29     50,395   \n",
       "10  11   Crystal Palace  38  13   6  19   33  48  -15  45   1.18     24,114   \n",
       "11  12     Swansea City  38  11   9  18   54  54    0  42   1.11     20,407   \n",
       "12  13         West Ham  38  11   7  20   40  51  -11  40   1.05     34,197   \n",
       "13  14       Sunderland  38  10   8  20   41  60  -19  38   1.00     41,090   \n",
       "14  15      Aston Villa  38  10   8  20   39  61  -22  38   1.00     36,081   \n",
       "15  16        Hull City  38  10   7  21   38  53  -15  37   0.97     24,117   \n",
       "16  17        West Brom  38   7  15  16   43  59  -16  36   0.95     25,194   \n",
       "17  18     Norwich City  38   8   9  21   28  62  -34  33   0.87     26,805   \n",
       "18  19           Fulham  38   9   5  24   40  85  -45  32   0.84     24,977   \n",
       "19  20     Cardiff City  38   7   9  22   32  74  -42  30   0.79     27,430   \n",
       "\n",
       "                      Top Team Scorer  Goals         Goalkeeper  \\\n",
       "0                          Yaya Touré     20           Joe Hart   \n",
       "1                         Luis Suárez     31     Simon Mignolet   \n",
       "2                         Eden Hazard     14          Petr Čech   \n",
       "3                      Olivier Giroud     16  Wojciech Szczęsny   \n",
       "4                       Romelu Lukaku     15         Tim Howard   \n",
       "5                   Emmanuel Adebayor     11        Hugo Lloris   \n",
       "6                        Wayne Rooney     17       David de Gea   \n",
       "7                       Jay Rodriguez     15        Artur Boruc   \n",
       "8           Charlie Adam,Peter Crouch      7      Asmir Begović   \n",
       "9                           Loïc Rémy     14           Tim Krul   \n",
       "10        Dwight Gayle,Jason Puncheon      7     Julián Speroni   \n",
       "11                      Wilfried Bony     16        Michel Vorm   \n",
       "12                        Kevin Nolan      7             Adrián   \n",
       "13                       Adam Johnson      8       Vito Mannone   \n",
       "14                  Christian Benteke     10         Brad Guzan   \n",
       "15                     Nikica Jelavić      5     Allan McGregor   \n",
       "16  Saido Berahino,Stéphane Sessègnon      5         Ben Foster   \n",
       "17       Gary Hooper,Robert Snodgrass      6         John Ruddy   \n",
       "18                      Steve Sidwell      7    David Stockdale   \n",
       "19                       Jordon Mutch      7     David Marshall   \n",
       "\n",
       "                                   Notes  \n",
       "0   → Champions League via league finish  \n",
       "1   → Champions League via league finish  \n",
       "2   → Champions League via league finish  \n",
       "3   → Champions League via league finish  \n",
       "4     → Europa League via league finish1  \n",
       "5      → Europa League via league finish  \n",
       "6                                         \n",
       "7                                         \n",
       "8                                         \n",
       "9                                         \n",
       "10                                        \n",
       "11                                        \n",
       "12                                        \n",
       "13                                        \n",
       "14                                        \n",
       "15         → Europa League via cup loss2  \n",
       "16                                        \n",
       "17                             Relegated  \n",
       "18                             Relegated  \n",
       "19                             Relegated  "
      ]
     },
     "execution_count": 42,
     "metadata": {},
     "output_type": "execute_result"
    }
   ],
   "source": [
    "df_2013"
   ]
  }
 ],
 "metadata": {
  "kernelspec": {
   "display_name": "Python 3 (ipykernel)",
   "language": "python",
   "name": "python3"
  },
  "language_info": {
   "codemirror_mode": {
    "name": "ipython",
    "version": 3
   },
   "file_extension": ".py",
   "mimetype": "text/x-python",
   "name": "python",
   "nbconvert_exporter": "python",
   "pygments_lexer": "ipython3",
   "version": "3.9.13"
  }
 },
 "nbformat": 4,
 "nbformat_minor": 5
}
